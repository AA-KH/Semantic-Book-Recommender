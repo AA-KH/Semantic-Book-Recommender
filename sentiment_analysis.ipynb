{
 "cells": [
  {
   "cell_type": "code",
   "execution_count": 1,
   "id": "b6ee1a9d",
   "metadata": {},
   "outputs": [],
   "source": [
    "import pandas as pd\n",
    "\n",
    "books = pd.read_csv(\"final_books.csv\")"
   ]
  },
  {
   "cell_type": "code",
   "execution_count": 3,
   "id": "41f78a57",
   "metadata": {},
   "outputs": [
    {
     "name": "stderr",
     "output_type": "stream",
     "text": [
      "Device set to use mps\n"
     ]
    },
    {
     "data": {
      "text/plain": [
       "[[{'label': 'joy', 'score': 0.9126096963882446},\n",
       "  {'label': 'sadness', 'score': 0.03860821574926376},\n",
       "  {'label': 'surprise', 'score': 0.02735244669020176},\n",
       "  {'label': 'anger', 'score': 0.007762046996504068},\n",
       "  {'label': 'neutral', 'score': 0.006822151131927967},\n",
       "  {'label': 'fear', 'score': 0.005535698030143976},\n",
       "  {'label': 'disgust', 'score': 0.001309773069806397}]]"
      ]
     },
     "execution_count": 3,
     "metadata": {},
     "output_type": "execute_result"
    }
   ],
   "source": [
    "from transformers import pipeline\n",
    "classifier = pipeline(\"text-classification\", model=\"j-hartmann/emotion-english-distilroberta-base\", top_k= None, device=\"mps\")\n",
    "classifier(\"I love programming!\")"
   ]
  },
  {
   "cell_type": "code",
   "execution_count": 4,
   "id": "bfabeae0",
   "metadata": {},
   "outputs": [
    {
     "data": {
      "text/plain": [
       "[[{'label': 'fear', 'score': 0.654841423034668},\n",
       "  {'label': 'neutral', 'score': 0.16985200345516205},\n",
       "  {'label': 'sadness', 'score': 0.11640875786542892},\n",
       "  {'label': 'surprise', 'score': 0.02070065401494503},\n",
       "  {'label': 'disgust', 'score': 0.019100766628980637},\n",
       "  {'label': 'joy', 'score': 0.015161258168518543},\n",
       "  {'label': 'anger', 'score': 0.003935154993087053}]]"
      ]
     },
     "execution_count": 4,
     "metadata": {},
     "output_type": "execute_result"
    }
   ],
   "source": [
    "classifier(books[\"description\"][0])"
   ]
  },
  {
   "cell_type": "code",
   "execution_count": 5,
   "id": "ca175e10",
   "metadata": {},
   "outputs": [
    {
     "data": {
      "text/plain": [
       "[[{'label': 'surprise', 'score': 0.7296027541160583},\n",
       "  {'label': 'neutral', 'score': 0.1403856724500656},\n",
       "  {'label': 'fear', 'score': 0.06816212832927704},\n",
       "  {'label': 'joy', 'score': 0.047942448407411575},\n",
       "  {'label': 'anger', 'score': 0.009156345389783382},\n",
       "  {'label': 'disgust', 'score': 0.0026284728664904833},\n",
       "  {'label': 'sadness', 'score': 0.002122161677107215}],\n",
       " [{'label': 'neutral', 'score': 0.44937166571617126},\n",
       "  {'label': 'disgust', 'score': 0.2735905349254608},\n",
       "  {'label': 'joy', 'score': 0.10908280313014984},\n",
       "  {'label': 'sadness', 'score': 0.09362749755382538},\n",
       "  {'label': 'anger', 'score': 0.040478236973285675},\n",
       "  {'label': 'surprise', 'score': 0.02697022631764412},\n",
       "  {'label': 'fear', 'score': 0.006879068911075592}],\n",
       " [{'label': 'neutral', 'score': 0.6462157964706421},\n",
       "  {'label': 'sadness', 'score': 0.24273350834846497},\n",
       "  {'label': 'disgust', 'score': 0.0434226468205452},\n",
       "  {'label': 'surprise', 'score': 0.028300516307353973},\n",
       "  {'label': 'joy', 'score': 0.01421145349740982},\n",
       "  {'label': 'fear', 'score': 0.014084119349718094},\n",
       "  {'label': 'anger', 'score': 0.011031894013285637}],\n",
       " [{'label': 'fear', 'score': 0.9281684160232544},\n",
       "  {'label': 'anger', 'score': 0.03219081833958626},\n",
       "  {'label': 'neutral', 'score': 0.01280867401510477},\n",
       "  {'label': 'sadness', 'score': 0.008756855502724648},\n",
       "  {'label': 'surprise', 'score': 0.008597873151302338},\n",
       "  {'label': 'disgust', 'score': 0.008431804366409779},\n",
       "  {'label': 'joy', 'score': 0.0010455820010975003}],\n",
       " [{'label': 'sadness', 'score': 0.9671574234962463},\n",
       "  {'label': 'neutral', 'score': 0.015104176476597786},\n",
       "  {'label': 'disgust', 'score': 0.006480601150542498},\n",
       "  {'label': 'fear', 'score': 0.005393999628722668},\n",
       "  {'label': 'surprise', 'score': 0.00228694174438715},\n",
       "  {'label': 'anger', 'score': 0.0018428900511935353},\n",
       "  {'label': 'joy', 'score': 0.0017338786274194717}],\n",
       " [{'label': 'joy', 'score': 0.9327980279922485},\n",
       "  {'label': 'disgust', 'score': 0.03771708533167839},\n",
       "  {'label': 'neutral', 'score': 0.015891848132014275},\n",
       "  {'label': 'sadness', 'score': 0.006444487255066633},\n",
       "  {'label': 'anger', 'score': 0.005024975165724754},\n",
       "  {'label': 'surprise', 'score': 0.001581205753609538},\n",
       "  {'label': 'fear', 'score': 0.0005423066904768348}],\n",
       " [{'label': 'joy', 'score': 0.6528699398040771},\n",
       "  {'label': 'neutral', 'score': 0.25427526235580444},\n",
       "  {'label': 'surprise', 'score': 0.06808328628540039},\n",
       "  {'label': 'sadness', 'score': 0.00990901980549097},\n",
       "  {'label': 'disgust', 'score': 0.006512223277240992},\n",
       "  {'label': 'anger', 'score': 0.004821322858333588},\n",
       "  {'label': 'fear', 'score': 0.003529022680595517}],\n",
       " [{'label': 'neutral', 'score': 0.6089329123497009},\n",
       "  {'label': 'disgust', 'score': 0.15766695141792297},\n",
       "  {'label': 'sadness', 'score': 0.07482506334781647},\n",
       "  {'label': 'anger', 'score': 0.051973048597574234},\n",
       "  {'label': 'surprise', 'score': 0.04693116247653961},\n",
       "  {'label': 'fear', 'score': 0.038786713033914566},\n",
       "  {'label': 'joy', 'score': 0.020884130150079727}]]"
      ]
     },
     "execution_count": 5,
     "metadata": {},
     "output_type": "execute_result"
    }
   ],
   "source": [
    "classifier(books[\"description\"][0].split(\".\"))"
   ]
  },
  {
   "cell_type": "code",
   "execution_count": 6,
   "id": "c09c303c",
   "metadata": {},
   "outputs": [
    {
     "data": {
      "text/plain": [
       "'A NOVEL THAT READERS and critics have been eagerly anticipating for over a decade, Gilead is an astonishingly imagined story of remarkable lives'"
      ]
     },
     "execution_count": 6,
     "metadata": {},
     "output_type": "execute_result"
    }
   ],
   "source": [
    "sentences = books[\"description\"][0].split(\".\")\n",
    "predictions = classifier(sentences)\n",
    "sentences[0]"
   ]
  },
  {
   "cell_type": "code",
   "execution_count": 7,
   "id": "66714f7b",
   "metadata": {},
   "outputs": [
    {
     "data": {
      "text/plain": [
       "[{'label': 'surprise', 'score': 0.7296027541160583},\n",
       " {'label': 'neutral', 'score': 0.1403856724500656},\n",
       " {'label': 'fear', 'score': 0.06816212832927704},\n",
       " {'label': 'joy', 'score': 0.047942448407411575},\n",
       " {'label': 'anger', 'score': 0.009156345389783382},\n",
       " {'label': 'disgust', 'score': 0.0026284728664904833},\n",
       " {'label': 'sadness', 'score': 0.002122161677107215}]"
      ]
     },
     "execution_count": 7,
     "metadata": {},
     "output_type": "execute_result"
    }
   ],
   "source": [
    "predictions[0]"
   ]
  },
  {
   "cell_type": "code",
   "execution_count": 9,
   "id": "e5259f2f",
   "metadata": {},
   "outputs": [
    {
     "data": {
      "text/plain": [
       "[{'label': 'anger', 'score': 0.009156345389783382},\n",
       " {'label': 'disgust', 'score': 0.0026284728664904833},\n",
       " {'label': 'fear', 'score': 0.06816212832927704},\n",
       " {'label': 'joy', 'score': 0.047942448407411575},\n",
       " {'label': 'neutral', 'score': 0.1403856724500656},\n",
       " {'label': 'sadness', 'score': 0.002122161677107215},\n",
       " {'label': 'surprise', 'score': 0.7296027541160583}]"
      ]
     },
     "execution_count": 9,
     "metadata": {},
     "output_type": "execute_result"
    }
   ],
   "source": [
    "sorted(predictions[0], key=lambda x: x[\"label\"])"
   ]
  },
  {
   "cell_type": "code",
   "execution_count": 13,
   "id": "d439cb2a",
   "metadata": {},
   "outputs": [],
   "source": [
    "import numpy as np\n",
    "\n",
    "emotion_labels = [\"anger\", \"disgust\", \"fear\", \"joy\", \"sadness\", \"surprise\", \"neutral\"]\n",
    "isbn = []\n",
    "emotion_scores = {label: [] for label in emotion_labels}\n",
    "\n",
    "def calculate_max_emotion_scores(predictions):\n",
    "    per_emotion_scores = {label: [] for label in emotion_labels}\n",
    "    for prediction in predictions:\n",
    "        sorted_predictions = sorted(prediction, key=lambda x: x[\"label\"])\n",
    "        for index, label in enumerate(emotion_labels):\n",
    "            per_emotion_scores[label].append(sorted_predictions[index][\"score\"])\n",
    "    return {label: np.max(scores) for label, scores in per_emotion_scores.items()}"
   ]
  },
  {
   "cell_type": "code",
   "execution_count": 14,
   "id": "739b6d94",
   "metadata": {},
   "outputs": [],
   "source": [
    "for i in range(10):\n",
    "    isbn.append(books[\"isbn13\"][i])\n",
    "    sentences = books[\"description\"][i].split(\".\")\n",
    "    predictions = classifier(sentences)\n",
    "    max_scores = calculate_max_emotion_scores(predictions)\n",
    "    for label in emotion_labels:\n",
    "        emotion_scores[label].append(max_scores[label])"
   ]
  },
  {
   "cell_type": "code",
   "execution_count": 16,
   "id": "7d597681",
   "metadata": {},
   "outputs": [
    {
     "data": {
      "text/plain": [
       "{'anger': [np.float64(0.051973048597574234),\n",
       "  np.float64(0.6126183867454529),\n",
       "  np.float64(0.051973048597574234),\n",
       "  np.float64(0.3514830768108368),\n",
       "  np.float64(0.08141231536865234),\n",
       "  np.float64(0.23222483694553375),\n",
       "  np.float64(0.5381841063499451),\n",
       "  np.float64(0.051973048597574234),\n",
       "  np.float64(0.3006706237792969),\n",
       "  np.float64(0.051973048597574234)],\n",
       " 'disgust': [np.float64(0.2735905349254608),\n",
       "  np.float64(0.348285436630249),\n",
       "  np.float64(0.15766695141792297),\n",
       "  np.float64(0.15766695141792297),\n",
       "  np.float64(0.18449489772319794),\n",
       "  np.float64(0.7271748185157776),\n",
       "  np.float64(0.15766695141792297),\n",
       "  np.float64(0.15766695141792297),\n",
       "  np.float64(0.27948111295700073),\n",
       "  np.float64(0.17792636156082153)],\n",
       " 'fear': [np.float64(0.9281684160232544),\n",
       "  np.float64(0.942527711391449),\n",
       "  np.float64(0.9723208546638489),\n",
       "  np.float64(0.3607070744037628),\n",
       "  np.float64(0.09504328668117523),\n",
       "  np.float64(0.038786713033914566),\n",
       "  np.float64(0.747427761554718),\n",
       "  np.float64(0.4044956862926483),\n",
       "  np.float64(0.9155241250991821),\n",
       "  np.float64(0.04945676401257515)],\n",
       " 'joy': [np.float64(0.9327980279922485),\n",
       "  np.float64(0.7044215202331543),\n",
       "  np.float64(0.7672367691993713),\n",
       "  np.float64(0.25188055634498596),\n",
       "  np.float64(0.03520689904689789),\n",
       "  np.float64(0.04337586835026741),\n",
       "  np.float64(0.8725650906562805),\n",
       "  np.float64(0.020884130150079727),\n",
       "  np.float64(0.021228468045592308),\n",
       "  np.float64(0.03219759464263916)],\n",
       " 'sadness': [np.float64(0.6462157964706421),\n",
       "  np.float64(0.8879395127296448),\n",
       "  np.float64(0.6089329123497009),\n",
       "  np.float64(0.7326871156692505),\n",
       "  np.float64(0.9259037375450134),\n",
       "  np.float64(0.6213928461074829),\n",
       "  np.float64(0.7121942639350891),\n",
       "  np.float64(0.6089329123497009),\n",
       "  np.float64(0.8402898907661438),\n",
       "  np.float64(0.8874109387397766)],\n",
       " 'surprise': [np.float64(0.9671574234962463),\n",
       "  np.float64(0.07482506334781647),\n",
       "  np.float64(0.07482506334781647),\n",
       "  np.float64(0.07482506334781647),\n",
       "  np.float64(0.47588104009628296),\n",
       "  np.float64(0.10239062458276749),\n",
       "  np.float64(0.40799808502197266),\n",
       "  np.float64(0.8202821612358093),\n",
       "  np.float64(0.3544599711894989),\n",
       "  np.float64(0.07482506334781647)],\n",
       " 'neutral': [np.float64(0.7296027541160583),\n",
       "  np.float64(0.25254493951797485),\n",
       "  np.float64(0.04693116247653961),\n",
       "  np.float64(0.04693116247653961),\n",
       "  np.float64(0.04693116247653961),\n",
       "  np.float64(0.27190250158309937),\n",
       "  np.float64(0.07205012440681458),\n",
       "  np.float64(0.23448757827281952),\n",
       "  np.float64(0.13561438024044037),\n",
       "  np.float64(0.04714181646704674)]}"
      ]
     },
     "execution_count": 16,
     "metadata": {},
     "output_type": "execute_result"
    }
   ],
   "source": [
    "emotion_scores"
   ]
  },
  {
   "cell_type": "code",
   "execution_count": 17,
   "id": "404478f3",
   "metadata": {},
   "outputs": [
    {
     "name": "stderr",
     "output_type": "stream",
     "text": [
      "100%|██████████| 5197/5197 [05:55<00:00, 14.61it/s]\n"
     ]
    }
   ],
   "source": [
    "from tqdm import tqdm\n",
    "\n",
    "emotion_labels = [\"anger\", \"disgust\", \"fear\", \"joy\", \"sadness\", \"surprise\", \"neutral\"]\n",
    "isbn = []\n",
    "emotion_scores = {label: [] for label in emotion_labels}\n",
    "\n",
    "for i in tqdm(range(len(books))):\n",
    "    isbn.append(books[\"isbn13\"][i])\n",
    "    sentences = books[\"description\"][i].split(\".\")\n",
    "    predictions = classifier(sentences)\n",
    "    max_scores = calculate_max_emotion_scores(predictions)\n",
    "    for label in emotion_labels:\n",
    "        emotion_scores[label].append(max_scores[label])"
   ]
  },
  {
   "cell_type": "code",
   "execution_count": 18,
   "id": "c9000c48",
   "metadata": {},
   "outputs": [
    {
     "data": {
      "text/html": [
       "<div>\n",
       "<style scoped>\n",
       "    .dataframe tbody tr th:only-of-type {\n",
       "        vertical-align: middle;\n",
       "    }\n",
       "\n",
       "    .dataframe tbody tr th {\n",
       "        vertical-align: top;\n",
       "    }\n",
       "\n",
       "    .dataframe thead th {\n",
       "        text-align: right;\n",
       "    }\n",
       "</style>\n",
       "<table border=\"1\" class=\"dataframe\">\n",
       "  <thead>\n",
       "    <tr style=\"text-align: right;\">\n",
       "      <th></th>\n",
       "      <th>anger</th>\n",
       "      <th>disgust</th>\n",
       "      <th>fear</th>\n",
       "      <th>joy</th>\n",
       "      <th>sadness</th>\n",
       "      <th>surprise</th>\n",
       "      <th>neutral</th>\n",
       "      <th>isbn13</th>\n",
       "    </tr>\n",
       "  </thead>\n",
       "  <tbody>\n",
       "    <tr>\n",
       "      <th>0</th>\n",
       "      <td>0.051973</td>\n",
       "      <td>0.273591</td>\n",
       "      <td>0.928168</td>\n",
       "      <td>0.932798</td>\n",
       "      <td>0.646216</td>\n",
       "      <td>0.967157</td>\n",
       "      <td>0.729603</td>\n",
       "      <td>9780002005883</td>\n",
       "    </tr>\n",
       "    <tr>\n",
       "      <th>1</th>\n",
       "      <td>0.612618</td>\n",
       "      <td>0.348285</td>\n",
       "      <td>0.942528</td>\n",
       "      <td>0.704422</td>\n",
       "      <td>0.887940</td>\n",
       "      <td>0.074825</td>\n",
       "      <td>0.252545</td>\n",
       "      <td>9780002261982</td>\n",
       "    </tr>\n",
       "    <tr>\n",
       "      <th>2</th>\n",
       "      <td>0.051973</td>\n",
       "      <td>0.157667</td>\n",
       "      <td>0.972321</td>\n",
       "      <td>0.767237</td>\n",
       "      <td>0.608933</td>\n",
       "      <td>0.074825</td>\n",
       "      <td>0.046931</td>\n",
       "      <td>9780006178736</td>\n",
       "    </tr>\n",
       "    <tr>\n",
       "      <th>3</th>\n",
       "      <td>0.351483</td>\n",
       "      <td>0.157667</td>\n",
       "      <td>0.360707</td>\n",
       "      <td>0.251881</td>\n",
       "      <td>0.732687</td>\n",
       "      <td>0.074825</td>\n",
       "      <td>0.046931</td>\n",
       "      <td>9780006280897</td>\n",
       "    </tr>\n",
       "    <tr>\n",
       "      <th>4</th>\n",
       "      <td>0.081412</td>\n",
       "      <td>0.184495</td>\n",
       "      <td>0.095043</td>\n",
       "      <td>0.035207</td>\n",
       "      <td>0.925904</td>\n",
       "      <td>0.475881</td>\n",
       "      <td>0.046931</td>\n",
       "      <td>9780006280934</td>\n",
       "    </tr>\n",
       "  </tbody>\n",
       "</table>\n",
       "</div>"
      ],
      "text/plain": [
       "      anger   disgust      fear       joy   sadness  surprise   neutral  \\\n",
       "0  0.051973  0.273591  0.928168  0.932798  0.646216  0.967157  0.729603   \n",
       "1  0.612618  0.348285  0.942528  0.704422  0.887940  0.074825  0.252545   \n",
       "2  0.051973  0.157667  0.972321  0.767237  0.608933  0.074825  0.046931   \n",
       "3  0.351483  0.157667  0.360707  0.251881  0.732687  0.074825  0.046931   \n",
       "4  0.081412  0.184495  0.095043  0.035207  0.925904  0.475881  0.046931   \n",
       "\n",
       "          isbn13  \n",
       "0  9780002005883  \n",
       "1  9780002261982  \n",
       "2  9780006178736  \n",
       "3  9780006280897  \n",
       "4  9780006280934  "
      ]
     },
     "execution_count": 18,
     "metadata": {},
     "output_type": "execute_result"
    }
   ],
   "source": [
    "emotions_df = pd.DataFrame(emotion_scores)\n",
    "emotions_df[\"isbn13\"] = isbn\n",
    "emotions_df.head()"
   ]
  },
  {
   "cell_type": "code",
   "execution_count": 19,
   "id": "5dd4c4ba",
   "metadata": {},
   "outputs": [],
   "source": [
    "books = pd.merge(books, emotions_df, on=\"isbn13\")\n",
    "books.to_csv(\"books_with_emotions.csv\", index=False)"
   ]
  }
 ],
 "metadata": {
  "kernelspec": {
   "display_name": "bookrec_venv",
   "language": "python",
   "name": "python3"
  },
  "language_info": {
   "codemirror_mode": {
    "name": "ipython",
    "version": 3
   },
   "file_extension": ".py",
   "mimetype": "text/x-python",
   "name": "python",
   "nbconvert_exporter": "python",
   "pygments_lexer": "ipython3",
   "version": "3.11.13"
  }
 },
 "nbformat": 4,
 "nbformat_minor": 5
}
